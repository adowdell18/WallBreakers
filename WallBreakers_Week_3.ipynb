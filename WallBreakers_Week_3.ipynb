{
  "nbformat": 4,
  "nbformat_minor": 0,
  "metadata": {
    "colab": {
      "name": "WallBreakers Week 3 ",
      "provenance": [],
      "collapsed_sections": []
    },
    "kernelspec": {
      "name": "python3",
      "display_name": "Python 3"
    }
  },
  "cells": [
    {
      "cell_type": "markdown",
      "metadata": {
        "id": "0Lokyd1smLkQ",
        "colab_type": "text"
      },
      "source": [
        "## Is Subsequence"
      ]
    },
    {
      "cell_type": "code",
      "metadata": {
        "id": "3rPTOLGFl-wc",
        "colab_type": "code",
        "colab": {}
      },
      "source": [
        "class Solution(object):\n",
        "    def isSubsequence(self, s, t):\n",
        "        \"\"\"\n",
        "        :type s: str\n",
        "        :type t: str\n",
        "        :rtype: bool\n",
        "        \"\"\"\n",
        "        if not s:\n",
        "            return True\n",
        "        if s[0] not in t:\n",
        "            return False\n",
        "        index = t.index(s[0])\n",
        "        \n",
        "        return (self.isSubsequence(s[1:], t[index + 1: ]))"
      ],
      "execution_count": 0,
      "outputs": []
    },
    {
      "cell_type": "markdown",
      "metadata": {
        "id": "2biKbbFmHb8N",
        "colab_type": "text"
      },
      "source": [
        "##findMinArrowShots\n"
      ]
    },
    {
      "cell_type": "code",
      "metadata": {
        "id": "I2LfFAAbHbsy",
        "colab_type": "code",
        "colab": {}
      },
      "source": [
        "class Solution(object):\n",
        "    def findMinArrowShots(self, points):\n",
        "        \"\"\"\n",
        "        :type points: List[List[int]]\n",
        "        :rtype: int\n",
        "        \"\"\"\n",
        "        min_arrows = 1\n",
        "        if not points:\n",
        "            return 0\n",
        "        points = sorted(points, key = lambda x:x[1])\n",
        "        right_side = points[0][1]\n",
        "        for i in points: \n",
        "            if i[0] > right_side:\n",
        "                right_side = i[1]\n",
        "                min_arrows += 1\n",
        "        return min_arrows"
      ],
      "execution_count": 0,
      "outputs": []
    },
    {
      "cell_type": "markdown",
      "metadata": {
        "id": "xTyxH0iGA3Se",
        "colab_type": "text"
      },
      "source": [
        "## Lemonade Change"
      ]
    },
    {
      "cell_type": "code",
      "metadata": {
        "id": "fzwcHgVlA3hl",
        "colab_type": "code",
        "colab": {}
      },
      "source": [
        "class Solution:\n",
        "    def lemonadeChange(self, bills):\n",
        "        d = {5:0, 10:0, 20:0}\n",
        "        for i in bills:\n",
        "            if i == 5:\n",
        "                d[5] += 1\n",
        "            elif i == 10:\n",
        "                if (d[5] >= 1):\n",
        "                    d[5] = d[5] - 1\n",
        "                    d[10] += 1\n",
        "                else:\n",
        "                    return False\n",
        "            elif i == 20:\n",
        "                if (d[5] >= 1 and d[10] >= 1):\n",
        "                    d[5] -= 1\n",
        "                    d[10] -= 1\n",
        "                    d[20] += 1\n",
        "                elif (d[5] >= 3):\n",
        "                    d[5] -= 3\n",
        "                    d[20] += 1\n",
        "                else:\n",
        "                    return False\n",
        "        return True"
      ],
      "execution_count": 0,
      "outputs": []
    },
    {
      "cell_type": "markdown",
      "metadata": {
        "id": "Hx26yfP_A-kG",
        "colab_type": "text"
      },
      "source": [
        "## Find Content Children"
      ]
    },
    {
      "cell_type": "code",
      "metadata": {
        "id": "P9Kmwf6FA-zE",
        "colab_type": "code",
        "colab": {}
      },
      "source": [
        "class Solution(object):\n",
        "    def findContentChildren(self, g, s):\n",
        "        count = 0\n",
        "        i = len(g) - 1\n",
        "        j = len(s) - 1\n",
        "        g = sorted(g)\n",
        "        s = sorted(s)\n",
        "\n",
        "        while min(i, j) >= 0:\n",
        "            if g[i] <= s[j]:\n",
        "                count += 1\n",
        "                j -= 1\n",
        "            i -= 1\n",
        "        return count\n"
      ],
      "execution_count": 0,
      "outputs": []
    },
    {
      "cell_type": "markdown",
      "metadata": {
        "id": "u-Vq-NtHBKCH",
        "colab_type": "text"
      },
      "source": [
        "## Is Subsequence"
      ]
    },
    {
      "cell_type": "code",
      "metadata": {
        "id": "IHJhZzWiBKNa",
        "colab_type": "code",
        "colab": {}
      },
      "source": [
        "class Solution(object):\n",
        "    def isSubsequence(self, s, t):\n",
        "        \"\"\"\n",
        "        :type s: str\n",
        "        :type t: str\n",
        "        :rtype: bool\n",
        "        \"\"\"\n",
        "        if not s:\n",
        "            return True\n",
        "        if s[0] not in t:\n",
        "            return False\n",
        "        index = t.index(s[0])\n",
        "        \n",
        "        return (self.isSubsequence(s[1:], t[index + 1: ]))"
      ],
      "execution_count": 0,
      "outputs": []
    },
    {
      "cell_type": "markdown",
      "metadata": {
        "id": "GY_IJFwmBTzg",
        "colab_type": "text"
      },
      "source": [
        "## Find Min Arrow Shots"
      ]
    },
    {
      "cell_type": "code",
      "metadata": {
        "id": "LkfSG7NNBT85",
        "colab_type": "code",
        "colab": {}
      },
      "source": [
        "class Solution(object):\n",
        "    def findMinArrowShots(self, points):\n",
        "        \"\"\"\n",
        "        :type points: List[List[int]]\n",
        "        :rtype: int\n",
        "        \"\"\"\n",
        "        min_arrows = 1\n",
        "        if not points:\n",
        "            return 0\n",
        "        points = sorted(points, key = lambda x:x[1])\n",
        "        right_side = points[0][1]\n",
        "        for i in points: \n",
        "            if i[0] > right_side:\n",
        "                right_side = i[1]\n",
        "                min_arrows += 1\n",
        "        return min_arrows"
      ],
      "execution_count": 0,
      "outputs": []
    },
    {
      "cell_type": "markdown",
      "metadata": {
        "id": "8iqnwGm7BcIT",
        "colab_type": "text"
      },
      "source": [
        "## Partition Labels"
      ]
    },
    {
      "cell_type": "code",
      "metadata": {
        "id": "l4AXMS-sBcUT",
        "colab_type": "code",
        "colab": {}
      },
      "source": [
        "class Solution:\n",
        "    def partitionLabels(self, S):\n",
        "        \"\"\"\n",
        "        :type S: str\n",
        "        :rtype: List[int]\n",
        "        \"\"\"\n",
        "        \n",
        "        partitions = []\n",
        "        start, end = 0,0\n",
        "        for i in range (len(S)):\n",
        "            end = max (end, S.rfind(S[i]))\n",
        "            if i == end:\n",
        "                partitions.append((end - start) + 1)\n",
        "                start = end + 1\n",
        "        return partitions"
      ],
      "execution_count": 0,
      "outputs": []
    },
    {
      "cell_type": "markdown",
      "metadata": {
        "id": "kVJESREkJ8Za",
        "colab_type": "text"
      },
      "source": [
        ""
      ]
    },
    {
      "cell_type": "code",
      "metadata": {
        "id": "oQ2IDaMCJ8nv",
        "colab_type": "code",
        "colab": {}
      },
      "source": [
        "class MyStack(object):\n",
        "\n",
        "    def __init__(self):\n",
        "        \"\"\"\n",
        "        Initialize your data structure here.\n",
        "        \"\"\"\n",
        "        self.queue = []\n",
        "        self.temp = None\n",
        "\n",
        "    def push(self, x):\n",
        "        \"\"\"\n",
        "        Push element x onto stack.\n",
        "        :type x: int\n",
        "        :rtype: void\n",
        "        \"\"\"\n",
        "        self.queue.append(x)\n",
        "\n",
        "    def pop(self):\n",
        "        \"\"\"\n",
        "        Removes the element on top of the stack and returns that element.\n",
        "        :rtype: int\n",
        "        \"\"\"\n",
        "        return self.queue.pop()\n",
        "        \n",
        "        \n",
        "        \n",
        "\n",
        "    def top(self):\n",
        "        \"\"\"\n",
        "        Get the top element.\n",
        "        :rtype: int\n",
        "        \"\"\"\n",
        "    \n",
        "        self.temp = self.queue.pop()\n",
        "        self.queue.append(self.temp)\n",
        "        return self.temp\n",
        "        \n",
        "\n",
        "    def empty(self):\n",
        "        \"\"\"\n",
        "        Returns whether the stack is empty.\n",
        "        :rtype: bool\n",
        "        \n",
        "    \n",
        "        \"\"\"\n",
        "        #print(self.stack)\n",
        "        return (len(self.queue) == 0)\n",
        "        \n",
        "\n",
        "\n",
        "# Your MyStack object will be instantiated and called as such:\n",
        "# obj = MyStack()\n",
        "# obj.push(x)\n",
        "# param_2 = obj.pop()\n",
        "# param_3 = obj.top()\n",
        "# param_4 = obj.empty()"
      ],
      "execution_count": 0,
      "outputs": []
    },
    {
      "cell_type": "markdown",
      "metadata": {
        "id": "tPFcdDk0oSk2",
        "colab_type": "text"
      },
      "source": [
        "#Pow X N (Dynamic Programming)\n"
      ]
    },
    {
      "cell_type": "code",
      "metadata": {
        "id": "RxK0KQ--oOy9",
        "colab_type": "code",
        "colab": {}
      },
      "source": [
        "class Solution(object):\n",
        "    \n",
        "    def myPow(self, x, n):\n",
        "        \"\"\"\n",
        "        :type x: float\n",
        "        :type n: int\n",
        "        :rtype: float\n",
        "        \"\"\"\n",
        "    \n",
        "        if n==0:\n",
        "            return 1\n",
        "        \n",
        "        elif (n % 2 == 0) and (n > 0):\n",
        "            print(n)\n",
        "            return (self.myPow(x, n/2) * self.myPow(x, n/2))\n",
        "        \n",
        "        elif (n % 2 == 0) and (n < 0):\n",
        "            print(n)\n",
        "            return (1/(self.myPow(x, n/2) * self.myPow(x, n/2)))\n",
        "        elif (n % 2 != 0) and (n > 0):\n",
        "            print(n)\n",
        "            return (x * self.myPow(x, n/2) * self.myPow(x, n/2))\n",
        "        else:\n",
        "            return 1/(x * self.myPow(x, n/2) * self.myPow(x, n/2))\n",
        "        "
      ],
      "execution_count": 0,
      "outputs": []
    },
    {
      "cell_type": "markdown",
      "metadata": {
        "id": "fvVxQpUiwUE9",
        "colab_type": "text"
      },
      "source": [
        "\n",
        "\n",
        "```\n",
        "# This is formatted as code\n",
        "```\n",
        "\n"
      ]
    },
    {
      "cell_type": "code",
      "metadata": {
        "id": "zYDIX_QgwUPQ",
        "colab_type": "code",
        "colab": {}
      },
      "source": [
        ""
      ],
      "execution_count": 0,
      "outputs": []
    },
    {
      "cell_type": "markdown",
      "metadata": {
        "id": "DYsMSdQP2mjB",
        "colab_type": "text"
      },
      "source": [
        ""
      ]
    }
  ]
}