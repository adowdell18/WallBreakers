{
  "nbformat": 4,
  "nbformat_minor": 0,
  "metadata": {
    "colab": {
      "name": "WallBreakers_Week1.ipynb",
      "provenance": [],
      "collapsed_sections": []
    },
    "kernelspec": {
      "name": "python3",
      "display_name": "Python 3"
    }
  },
  "cells": [
    {
      "cell_type": "markdown",
      "metadata": {
        "id": "hLFQnhSdMqPh",
        "colab_type": "text"
      },
      "source": [
        "# :)Single Number\n"
      ]
    },
    {
      "cell_type": "code",
      "metadata": {
        "id": "nETEj6Q-MZwN",
        "colab_type": "code",
        "colab": {}
      },
      "source": [
        "\n",
        "class Solution(object):\n",
        "    def singleNumber(self, nums):\n",
        "        \"\"\"\n",
        "        :type nums: List[int]\n",
        "        :rtype: int\n",
        "        \"\"\"\n",
        "        solution = reduce(operator.xor, nums)\n",
        "        return solution"
      ],
      "execution_count": 0,
      "outputs": []
    },
    {
      "cell_type": "markdown",
      "metadata": {
        "id": "HRNLDUWLM0wc",
        "colab_type": "text"
      },
      "source": [
        "# :) Week1_reverseString"
      ]
    },
    {
      "cell_type": "code",
      "metadata": {
        "id": "Cg7bg9llM066",
        "colab_type": "code",
        "colab": {}
      },
      "source": [
        "\n",
        "class Solution(object):\n",
        "    def reverseString(self, s):\n",
        "        \"\"\"\n",
        "        :type s: str\n",
        "        :rtype: str\n",
        "        \"\"\"\n",
        "        return s[::-1]"
      ],
      "execution_count": 0,
      "outputs": []
    },
    {
      "cell_type": "markdown",
      "metadata": {
        "id": "fwVRncuOM1UJ",
        "colab_type": "text"
      },
      "source": [
        "# :) Week 1 Two Sum\n"
      ]
    },
    {
      "cell_type": "code",
      "metadata": {
        "id": "KpvfYSjjM1ev",
        "colab_type": "code",
        "colab": {}
      },
      "source": [
        "    \n",
        "class Solution(object):\n",
        "    def twoSum(self, nums, target):\n",
        "        \"\"\"\n",
        "        :type nums: List[int]\n",
        "        :type target: int\n",
        "        :rtype: List[int]\n",
        "        \"\"\"\n",
        "        \n",
        "        sum_hash = {}\n",
        "        for ind, c_num in enumerate (nums):\n",
        "            if target - c_num in sum_hash:\n",
        "                return ([sum_hash[target-c_num], ind])\n",
        "                break\n",
        "            sum_hash[c_num] = ind"
      ],
      "execution_count": 0,
      "outputs": []
    },
    {
      "cell_type": "markdown",
      "metadata": {
        "id": "rEM1NabEM1pK",
        "colab_type": "text"
      },
      "source": [
        "# Excel Sheet to Column Number"
      ]
    },
    {
      "cell_type": "code",
      "metadata": {
        "id": "bxYJpVUbM1xz",
        "colab_type": "code",
        "colab": {}
      },
      "source": [
        "    def titleToNumber(self, s):\n",
        "        \"\"\"\n",
        "        :type s: str\n",
        "        :rtype: int\n",
        "        \"\"\"\n",
        "        total = 0\n",
        "        for letter in s:\n",
        "            total = ord(letter) + (total * 26)\n",
        "            total = total - 64\n",
        "        return total  "
      ],
      "execution_count": 0,
      "outputs": []
    },
    {
      "cell_type": "markdown",
      "metadata": {
        "id": "jrmXDzLmM16t",
        "colab_type": "text"
      },
      "source": [
        "# Is Power Of Two"
      ]
    },
    {
      "cell_type": "code",
      "metadata": {
        "id": "4z3Oqp4lM2Cw",
        "colab_type": "code",
        "colab": {}
      },
      "source": [
        "class Solution(object):\n",
        "            \n",
        "    def isPowerOfTwo(self, n):\n",
        "        \"\"\"\n",
        "        :type n: int\n",
        "        :rtype: bool\n",
        "        \"\"\"\n",
        "        #print(( n & (n - 1)))\n",
        "        if ( n & (n - 1)):\n",
        "            return False\n",
        "        else:\n",
        "            if(n>0):\n",
        "                return True\n"
      ],
      "execution_count": 0,
      "outputs": []
    },
    {
      "cell_type": "markdown",
      "metadata": {
        "id": "HsJMEBKRM2K3",
        "colab_type": "text"
      },
      "source": [
        "# Fizz Buzz\n"
      ]
    },
    {
      "cell_type": "code",
      "metadata": {
        "id": "fECoaRqhM2Sq",
        "colab_type": "code",
        "colab": {}
      },
      "source": [
        "class Solution:\n",
        "    def __init__(self):\n",
        "        self.strings = []\n",
        "        self.c = 1\n",
        "    def fizzBuzz(self, n):\n",
        "        \"\"\"\n",
        "        :type n: int\n",
        "        :rtype: List[str]\n",
        "        \"\"\"\n",
        "        if (self.c <= n):\n",
        "            #print(counter, value)\n",
        "            if (self.c % 3 == 0) and (self.c  % 5 == 0):\n",
        "                self.strings.append(\"FizzBuzz\")\n",
        "            elif (self.c % 3 == 0):\n",
        "                self.strings.append(\"Fizz\")\n",
        "            elif (self.c % 5 == 0):\n",
        "                self.strings.append(\"Buzz\")\n",
        "            else:\n",
        "                self.strings.append(str(self.c))\n",
        "            self.c += 1\n",
        "            self.fizzBuzz(n)\n",
        "        return self.strings"
      ],
      "execution_count": 0,
      "outputs": []
    },
    {
      "cell_type": "markdown",
      "metadata": {
        "id": "aCFDl8yMM2az",
        "colab_type": "text"
      },
      "source": [
        "#Is Anagram"
      ]
    },
    {
      "cell_type": "code",
      "metadata": {
        "id": "wcjj5kgdM2il",
        "colab_type": "code",
        "colab": {}
      },
      "source": [
        "# Is Anagram\n",
        "\n",
        "class Solution:\n",
        "    def isAnagram(self, s, t):\n",
        "        \"\"\"\n",
        "        :type s: str\n",
        "        :type t: str\n",
        "        :rtype: bool\n",
        "        \"\"\"\n",
        "        if (''.join(sorted(s)) == ''.join(sorted(t))):\n",
        "            return True\n",
        "        else:\n",
        "            return False"
      ],
      "execution_count": 0,
      "outputs": []
    },
    {
      "cell_type": "markdown",
      "metadata": {
        "id": "2UFkaZoEM2q7",
        "colab_type": "text"
      },
      "source": [
        "#Plus One"
      ]
    },
    {
      "cell_type": "code",
      "metadata": {
        "id": "9iOsYST7M2yp",
        "colab_type": "code",
        "colab": {}
      },
      "source": [
        "class Solution(object):\n",
        "    def plusOne(self, digits):\n",
        "        \"\"\"\n",
        "        :type digits: List[int]\n",
        "        :rtype: List[int]\n",
        "        \"\"\"\n",
        "        \n",
        "        return([int(i) for i in (list((str(int(\"\".join([str(i) for i in digits])) + 1))))])"
      ],
      "execution_count": 0,
      "outputs": []
    },
    {
      "cell_type": "markdown",
      "metadata": {
        "id": "_J7y8hapM270",
        "colab_type": "text"
      },
      "source": [
        "# Reverse Words in a List"
      ]
    },
    {
      "cell_type": "code",
      "metadata": {
        "id": "aUj_2hzQM3EH",
        "colab_type": "code",
        "colab": {}
      },
      "source": [
        "  \n",
        "class Solution(object):\n",
        "    def reverseWords(self, s):\n",
        "        \"\"\"\n",
        "        :type s: str\n",
        "        :rtype: str\n",
        "        \"\"\"\n",
        "        \n",
        "        s_arr = s.split(\" \")\n",
        "        reversed_tokens = []\n",
        "        for token in s_arr:\n",
        "            tok = ''.join(reversed(token))\n",
        "            reversed_tokens.append(tok)\n",
        "        return \" \".join(reversed_tokens)"
      ],
      "execution_count": 0,
      "outputs": []
    },
    {
      "cell_type": "markdown",
      "metadata": {
        "id": "9x-lX0loM3Mo",
        "colab_type": "text"
      },
      "source": [
        "# Transpose Matrix\n"
      ]
    },
    {
      "cell_type": "code",
      "metadata": {
        "id": "H5QM3PIHM3Ux",
        "colab_type": "code",
        "colab": {}
      },
      "source": [
        "t = []\n",
        "\n",
        "class Solution:\n",
        "    def transpose(self, A):\n",
        "        \"\"\"\n",
        "        :type A: List[List[int]]\n",
        "        :rtype: List[List[int]]\n",
        "        \"\"\"\n",
        "        #t = [[A[j][i] for j in range (len(A)) for i in range (len[A[0]])]]\n",
        "        t = [[A[j][i] for j in range(len(A))] for i in range(len(A[0]))]\n",
        "        \n",
        "        return t"
      ],
      "execution_count": 0,
      "outputs": []
    },
    {
      "cell_type": "markdown",
      "metadata": {
        "id": "134m5FQRM3dU",
        "colab_type": "text"
      },
      "source": [
        "#Binary Gap"
      ]
    },
    {
      "cell_type": "code",
      "metadata": {
        "id": "-ZsV42WWM3ks",
        "colab_type": "code",
        "colab": {}
      },
      "source": [
        "class Solution(object):\n",
        "    def binaryGap(self, N):\n",
        "        \"\"\"\n",
        "        :type N: int\n",
        "        :rtype: int\n",
        "        \"\"\"\n",
        "        \n",
        "        \n",
        "        indices = [ind for ind, value in enumerate (bin(N)) if value == '1']\n",
        "        solution = max(y - x for x, y in zip(indices, indices[1:]) or [0])\n",
        "        return solution"
      ],
      "execution_count": 0,
      "outputs": []
    },
    {
      "cell_type": "markdown",
      "metadata": {
        "id": "PYR7QhHKGZ3g",
        "colab_type": "text"
      },
      "source": [
        "#Detect Captial Use\n"
      ]
    },
    {
      "cell_type": "code",
      "metadata": {
        "id": "Zh3oGXiFGZ_o",
        "colab_type": "code",
        "colab": {}
      },
      "source": [
        "class Solution(object):\n",
        "    def detectCapitalUse(self, word):\n",
        "        \"\"\"\n",
        "        :type word: str\n",
        "        :rtype: bool\n",
        "        \"\"\"\n",
        "        '''\n",
        "        if word.isupper():\n",
        "            return True\n",
        "        elif word.islower():\n",
        "            return True\n",
        "        elif word.istitle():\n",
        "            return True\n",
        "        else:\n",
        "            return False\n",
        "        '''\n",
        "        #(ord(c)<= 90) and (ord(c)>= 65)\n",
        "        \n",
        "        return (word.isupper() or word.islower() or word.istitle())"
      ],
      "execution_count": 0,
      "outputs": []
    },
    {
      "cell_type": "markdown",
      "metadata": {
        "id": "7oTzxprJGaJG",
        "colab_type": "text"
      },
      "source": [
        "# Flip & Invert Image\n"
      ]
    },
    {
      "cell_type": "code",
      "metadata": {
        "id": "OvXN25j0GaRg",
        "colab_type": "code",
        "colab": {}
      },
      "source": [
        "  \n",
        "def flipAndInvertImage(A,cp):\n",
        "    \n",
        "        #A = [0 if i == 1 else 1 for i in A]\n",
        "        if cp < len(A):\n",
        "            A[cp].reverse()\n",
        "            A[cp] = [0 if i == 1 else 1 for i in A[cp]]\n",
        "            cp += 1\n",
        "            #print(cp)\n",
        "            #print(len(A))\n",
        "            #print(\"inverted\")\n",
        "            flipAndInvertImage(A, cp)\n",
        "        return A\n",
        "class Solution:\n",
        "\n",
        "    def flipAndInvertImage(self, A):\n",
        "        \"\"\"\n",
        "        :type A: List[List[int]]\n",
        "        :rtype: List[List[int]]\n",
        "        \"\"\"\n",
        "        A = flipAndInvertImage(A, 0)\n",
        "        \n",
        "        return A"
      ],
      "execution_count": 0,
      "outputs": []
    },
    {
      "cell_type": "markdown",
      "metadata": {
        "id": "wunpUQBWGaZP",
        "colab_type": "text"
      },
      "source": [
        "#Is Palindrome"
      ]
    },
    {
      "cell_type": "code",
      "metadata": {
        "id": "2F7DVdf5GagB",
        "colab_type": "code",
        "colab": {}
      },
      "source": [
        "  \n",
        "class Solution(object):\n",
        "    def isPalindrome(self, s):\n",
        "        \"\"\"\n",
        "        :type s: str\n",
        "        :rtype: bool\n",
        "        \"\"\"\n",
        "        \n",
        "        return ([char for char in s.lower() if char.isalnum()] == [char for char in s.lower() if char.isalnum()][::-1])"
      ],
      "execution_count": 0,
      "outputs": []
    },
    {
      "cell_type": "markdown",
      "metadata": {
        "id": "Rvs_txDOGana",
        "colab_type": "text"
      },
      "source": [
        "# Self Dividing Numbers"
      ]
    },
    {
      "cell_type": "code",
      "metadata": {
        "id": "4IAKno3iGauY",
        "colab_type": "code",
        "colab": {}
      },
      "source": [
        "#sdLst = []\n",
        "\n",
        "class Solution:\n",
        "    #sdLst = []\n",
        "    def __init__(self):\n",
        "        self.sdLst = []\n",
        "    def selfDividingNumbers(self, left, right):\n",
        "        \"\"\"\n",
        "        :type left: int\n",
        "        :type right: int\n",
        "        :rtype: List[int]\n",
        "        \"\"\"\n",
        "        print(left)\n",
        "        print(right)\n",
        "        \n",
        "        sd = True\n",
        "        #c = l\n",
        "        if (left <= right):\n",
        "            y = str(left)\n",
        "\n",
        "            for char in y:\n",
        "                dig = int(char)\n",
        "                if (dig == 0):\n",
        "                    sd = False;\n",
        "                else:\n",
        "                    if ((left % dig) != 0):\n",
        "                        sd = False\n",
        "            if (sd == True):\n",
        "                self.sdLst.append(left)\n",
        "            left += 1\n",
        "            #print(left)\n",
        "            self.selfDividingNumbers(left,right)\n",
        "            int(left)\n",
        "\n",
        "            \n",
        "        return self.sdLst"
      ],
      "execution_count": 0,
      "outputs": []
    },
    {
      "cell_type": "markdown",
      "metadata": {
        "id": "btWoCEokHO7m",
        "colab_type": "text"
      },
      "source": [
        "# Sort Array By Parity"
      ]
    },
    {
      "cell_type": "code",
      "metadata": {
        "id": "n9b_dbZ1HPGg",
        "colab_type": "code",
        "colab": {}
      },
      "source": [
        "l = []\n",
        "r = []\n",
        "class Solution:\n",
        "    #A = []\n",
        "        \n",
        "    3 sortArrayByParity(self, A):\n",
        "        l, r = 0, len(A) - 1\n",
        "        while l < r :\n",
        "            while ((A[l] % 2 == 0) and (l < r)):\n",
        "                l += 1\n",
        "            while ((A[r] % 2 == 1) and (l < r)):\n",
        "                r -= 1\n",
        "            if l < r:\n",
        "                A[l], A[r] = A[r], A[l]\n",
        "                l += 1\n",
        "                r -= 1\n",
        "        return(A)"
      ],
      "execution_count": 0,
      "outputs": []
    },
    {
      "cell_type": "markdown",
      "metadata": {
        "id": "9fdzwaNBHPYe",
        "colab_type": "text"
      },
      "source": [
        "# Friend Circles\n"
      ]
    },
    {
      "cell_type": "code",
      "metadata": {
        "id": "luiT2pHKHPgV",
        "colab_type": "code",
        "colab": {}
      },
      "source": [
        "class UnionFind:\n",
        "    def __init__(self,n):\n",
        "        self.parent  = [0] * n\n",
        "        self.n = n\n",
        "        self.rank = [0] * n\n",
        "        self.makeSet()\n",
        "        \n",
        "    def makeSet(self):\n",
        "        for i in range (self.n):\n",
        "            self.parent[i] = i\n",
        "    def find(self, x):\n",
        "        if self.parent[x] != x:\n",
        "            self.parent[x] = self.find(self.parent[x])\n",
        "        return self.parent[x]\n",
        "    def union(self, x, y):\n",
        "        xRoot = self.find(x)\n",
        "        yRoot = self.find (y)\n",
        "        \n",
        "        if self.parent[xRoot] < self.parent[yRoot]:\n",
        "            self.parent[xRoot] = yRoot\n",
        "        elif self.parent[xRoot] > self.parent[yRoot]:\n",
        "            self.parent[yRoot] = xRoot\n",
        "        else:\n",
        "            self.parent[xRoot] = yRoot\n",
        "            self.rank[yRoot] += 1\n",
        "            \n",
        "class Solution(object):\n",
        "    def findCircleNum(self, M):\n",
        "        \"\"\"\n",
        "        :type M: List[List[int]]\n",
        "        :rtype: int\n",
        "        \"\"\"\n",
        "        n = len(M)\n",
        "        uf = UnionFind(n)\n",
        "        s = set()\n",
        "        for i in range(0, len(M)):\n",
        "            for j in range (i):\n",
        "                if M[i][j] == 1:\n",
        "                    uf.union(i,j)\n",
        "        print(uf.parent)\n",
        "        print(uf.rank)\n",
        "        \n",
        "        for parent in uf.parent:\n",
        "            s.add(uf.find(parent))\n",
        "        return len(s)"
      ],
      "execution_count": 0,
      "outputs": []
    },
    {
      "cell_type": "markdown",
      "metadata": {
        "id": "y4QcyFA3HPpq",
        "colab_type": "text"
      },
      "source": [
        "## :) :) \n",
        "\n",
        "* * Simple string manipulation:\n",
        "* https://leetcode.com/problems/reverse-words-in-a-string-iii\n",
        "* https://leetcode.com/problems/reverse-vowels-of-a-string\n",
        "* https://leetcode.com/problems/longest-common-prefix\n",
        "* * Simple bitwise manipulation:\n",
        "* https://leetcode.com/problems/number-complement\n",
        "* https://leetcode.com/problems/hamming-distance/\n",
        "* https://leetcode.com/problems/binary-gap\n",
        "* https://leetcode.com/problems/single-number\n",
        "* * Union find:\n",
        "* https://leetcode.com/problems/number-of-islands\n",
        "* https://leetcode.com/problems/surrounded-regions (edited)\n",
        "\n"
      ]
    }
  ]
}